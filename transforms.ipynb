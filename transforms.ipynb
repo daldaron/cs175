{
 "cells": [
  {
   "cell_type": "code",
   "execution_count": 1,
   "metadata": {},
   "outputs": [],
   "source": [
    "import os\n",
    "import numpy as np\n",
    "\n",
    "import torch\n",
    "import torch.nn as nn\n",
    "import torch.optim as optim\n",
    "import torchvision.datasets as dset\n",
    "import torchvision.transforms as T\n",
    "from torch.utils.data import Dataset, DataLoader\n",
    "from torchvision import transforms, utils\n",
    "\n",
    "from skimage import io, transform\n",
    "\n",
    "import matplotlib.pyplot as plt\n",
    "plt.rcParams['figure.figsize'] = (20.0, 16.0) # set default size of plots\n",
    "plt.rcParams['image.interpolation'] = 'nearest'\n",
    "plt.rcParams['image.cmap'] = 'gray'\n",
    "%matplotlib inline\n",
    "\n",
    "import timeit, random\n",
    "import json, cv2\n",
    "import show\n",
    "\n",
    "%load_ext autoreload\n",
    "%autoreload 2\n",
    "\n",
    "# Ignore warnings\n",
    "# import warnings\n",
    "# warnings.filterwarnings(\"ignore\")\n",
    "\n",
    "plt.ion()   # interactive mode"
   ]
  },
  {
   "cell_type": "code",
   "execution_count": 2,
   "metadata": {},
   "outputs": [],
   "source": [
    "def transform_joint(joints):\n",
    "    j_2 = []\n",
    "    for J in joints:\n",
    "        j_2.append([int(J[0]//2), int(J[1]//2)])\n",
    "    return j_2\n",
    "\n",
    "def center(joints):\n",
    "    min_x = min(joints, key=lambda x : x[0])[0]\n",
    "    max_x = max(joints, key=lambda x : x[0])[0]\n",
    "    min_y = min(joints, key=lambda x : x[1])[1]\n",
    "    max_y = max(joints, key=lambda x : x[1])[1]\n",
    "    return (int((max_x-min_x)//2 + min_x), int((max_y-min_y)//2 + min_y))"
   ]
  },
  {
   "cell_type": "code",
   "execution_count": 23,
   "metadata": {},
   "outputs": [],
   "source": [
    "joints = json.load(open(\"Dataset/annotation.json\",\"r\"))\n",
    "names = joints.keys()"
   ]
  },
  {
   "cell_type": "code",
   "execution_count": 5,
   "metadata": {},
   "outputs": [
    {
     "name": "stdout",
     "output_type": "stream",
     "text": [
      "<class 'list'> ['007_1499_L', '072_2297_L', '066_1175_L', '028_389_R', '026_2063_R', '038_1673_R', '136_2045_L', '041_653_L', '026_2063_L', '066_1175_R']\n"
     ]
    }
   ],
   "source": [
    "names = list(names)\n",
    "print(type(names), names[:10])"
   ]
  },
  {
   "cell_type": "code",
   "execution_count": null,
   "metadata": {},
   "outputs": [
    {
     "name": "stdout",
     "output_type": "stream",
     "text": [
      "0\n",
      "10000\n",
      "20000\n",
      "40000\n"
     ]
    }
   ],
   "source": [
    "unsaved = []\n",
    "for i, name in enumerate(names):\n",
    "    image = cv2.imread(\"Dataset/Color/\" + name[:-2] + \".jpg\")\n",
    "    small = cv2.resize(image, (0,0), fx=0.5, fy=0.5, interpolation=cv2.INTER_AREA) # resize by half\n",
    "    j_2 = transform_joint(joints[name])\n",
    "    _x, _y = center(j_2)\n",
    "    cropped = small[_y-64:_y+64 , _x-64:_x+64]\n",
    "    \n",
    "    image = cv2.cvtColor(cropped, cv2.COLOR_BGR2RGB)\n",
    "\n",
    "    u,v,d = image.shape\n",
    "    \n",
    "    if u != 128:\n",
    "        unsaved.append(name)\n",
    "    elif v != 128:\n",
    "        unsaved.append(name)\n",
    "\n",
    "    cv2.imwrite('Dataset/ColoredProcessedImages/' + name + '.png', image)\n",
    "        \n",
    "    if i%10000 == 0:\n",
    "        print(i)\n",
    "#     fig, ax = plt.subplots(1,1, figsize=(10, 10))\n",
    "#     ax.imshow(image)\n",
    "#     plt.show()\n",
    "# average pooling vs max pooling.\n"
   ]
  },
  {
   "cell_type": "code",
   "execution_count": 3,
   "metadata": {},
   "outputs": [],
   "source": [
    "scaled_joints = json.load(open(\"Dataset/scaled_annotations.json\",\"r\"))\n",
    "names = list(scaled_joints.keys())"
   ]
  },
  {
   "cell_type": "code",
   "execution_count": 36,
   "metadata": {},
   "outputs": [],
   "source": [
    "resize = []\n",
    "for i, name in enumerate(names):\n",
    "    image = cv2.imread(\"Dataset/ColoredProcessedImages/\" + name + \".png\")\n",
    "    if image.size != 49152:\n",
    "        print(image.size)\n",
    "        resize.append(name)"
   ]
  },
  {
   "cell_type": "code",
   "execution_count": 33,
   "metadata": {},
   "outputs": [
    {
     "data": {
      "text/plain": [
       "461"
      ]
     },
     "execution_count": 33,
     "metadata": {},
     "output_type": "execute_result"
    }
   ],
   "source": [
    "len(resize)"
   ]
  },
  {
   "cell_type": "code",
   "execution_count": 34,
   "metadata": {},
   "outputs": [
    {
     "data": {
      "text/plain": [
       "['065_401_R',\n",
       " '090_71_R',\n",
       " '090_71_L',\n",
       " '062_41_R',\n",
       " '062_29_R',\n",
       " '099_59_R',\n",
       " '099_197_R',\n",
       " '059_137_R',\n",
       " '003_2687_R',\n",
       " '003_2687_L']"
      ]
     },
     "execution_count": 34,
     "metadata": {},
     "output_type": "execute_result"
    }
   ],
   "source": [
    "resize[0:10]"
   ]
  },
  {
   "cell_type": "code",
   "execution_count": 35,
   "metadata": {},
   "outputs": [],
   "source": [
    "for i, name in enumerate(resize):\n",
    "    image = cv2.imread(\"Dataset/Color/\" + name[:-2] + \".jpg\")\n",
    "    image = cv2.cvtColor(image, cv2.COLOR_BGR2RGB)\n",
    "    small = cv2.resize(image, (0,0), fx=0.5, fy=0.5, interpolation=cv2.INTER_AREA) # resize by half\n",
    "    j_2 = transform_joint(joints[name])\n",
    "    _x, _y = center(j_2)\n",
    "    cropped = small[_y-64:_y+64 , _x-64:_x+64]\n",
    "    \n",
    "\n",
    "    \n",
    "    u,v,d = cropped.shape\n",
    "#     print(cropped.shape)\n",
    "\n",
    "    \n",
    "    if u != 128:\n",
    "        cropped2 = small[small.shape[0]-128:small.shape[0] , _x-64:_x+64]\n",
    "        cv2.imwrite('Dataset/ColoredProcessedImages/' + name + '.png', cropped2)\n",
    "\n",
    "#     fig, ax = plt.subplots(1,2, figsize=(10, 10))\n",
    "#     ax[0].imshow(cropped)\n",
    "#     ax[1].imshow(cropped2)\n",
    "#     plt.show()"
   ]
  },
  {
   "cell_type": "code",
   "execution_count": null,
   "metadata": {},
   "outputs": [],
   "source": []
  },
  {
   "cell_type": "code",
   "execution_count": null,
   "metadata": {},
   "outputs": [],
   "source": []
  },
  {
   "cell_type": "code",
   "execution_count": null,
   "metadata": {},
   "outputs": [],
   "source": []
  },
  {
   "cell_type": "code",
   "execution_count": null,
   "metadata": {},
   "outputs": [],
   "source": []
  },
  {
   "cell_type": "code",
   "execution_count": null,
   "metadata": {},
   "outputs": [],
   "source": []
  }
 ],
 "metadata": {
  "kernelspec": {
   "display_name": "Python 3",
   "language": "python",
   "name": "python3"
  },
  "language_info": {
   "codemirror_mode": {
    "name": "ipython",
    "version": 3
   },
   "file_extension": ".py",
   "mimetype": "text/x-python",
   "name": "python",
   "nbconvert_exporter": "python",
   "pygments_lexer": "ipython3",
   "version": "3.6.4"
  }
 },
 "nbformat": 4,
 "nbformat_minor": 2
}
